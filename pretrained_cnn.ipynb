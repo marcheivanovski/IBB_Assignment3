{
 "cells": [
  {
   "cell_type": "code",
   "execution_count": 2,
   "metadata": {},
   "outputs": [],
   "source": [
    "import matplotlib.pylab as plt\n",
    "import tensorflow as tf\n",
    "import tensorflow_hub as hub\n",
    "import numpy as np \n",
    "import cv2\n",
    "import os\n",
    "import csv\n",
    "import xgboost as xgb\n",
    "import pandas as pd\n",
    "\n",
    "from sklearn.metrics import classification_report, confusion_matrix, accuracy_score\n",
    "from sklearn.ensemble import RandomForestClassifier\n",
    "from sklearn import metrics\n",
    "from sklearn.model_selection import train_test_split, cross_validate\n",
    "from sklearn.neighbors import KNeighborsClassifier\n",
    "from tensorflow import keras\n",
    "from tensorflow.keras import layers\n",
    "from sklearn.linear_model import LogisticRegression\n",
    "from sklearn.model_selection import KFold, GridSearchCV"
   ]
  },
  {
   "cell_type": "code",
   "execution_count": 21,
   "metadata": {},
   "outputs": [],
   "source": [
    "def read_model():\n",
    "    #url=\"https://tfhub.dev/google/imagenet/inception_v3/feature_vector/5\"\n",
    "    url=\"https://tfhub.dev/google/imagenet/mobilenet_v1_100_224/classification/5\"\n",
    "    #url=\"https://tfhub.dev/tensorflow/efficientnet/b0/classification/1\"\n",
    "    base_model = hub.KerasLayer(url, input_shape=(200,200,3))\n",
    "\n",
    "    #base_model.trainable = False #Freezing layers\n",
    "    model = keras.Sequential([\n",
    "        base_model,\n",
    "        #layers.Dense(128,activation='relu'),\n",
    "        #layers.Dense(4, activation='softmax')\n",
    "    ])\n",
    "    '''\n",
    "    model.compile(\n",
    "        optimizer=keras.optimizers.Adam(),\n",
    "        loss=keras.losses.SparseCategoricalCrossentropy(from_logits=True),\n",
    "        metrics=[\"accuracy\"],\n",
    "    )\n",
    "    model.fit(x,y, epochs=15, verbose=2)\n",
    "    '''\n",
    "    return model\n",
    "\n",
    "model=read_model()"
   ]
  },
  {
   "cell_type": "code",
   "execution_count": 8,
   "metadata": {},
   "outputs": [],
   "source": [
    "df=pd.read_csv('../recognition/ids.csv', names=['image','class'], header=None)\n",
    "\n",
    "def read_images_labels(directory,traintest):\n",
    "    images=[]\n",
    "    labels=[]\n",
    "    for f in os.listdir(directory):                                 \n",
    "        img=cv2.imread(directory+\"/\"+f , cv2.IMREAD_COLOR)\n",
    "        img_resized = cv2.resize(img, (200, 200), interpolation = cv2.INTER_LINEAR)\n",
    "        images.append(img_resized)   \n",
    "        #print(img)\n",
    "        #cv2.imshow('image',img)\n",
    "        #cv2.waitKey(0)\n",
    "        labels.append(list(df[df.image==traintest+'/'+f]['class'])[0])\n",
    "    return images, labels"
   ]
  },
  {
   "cell_type": "code",
   "execution_count": 9,
   "metadata": {},
   "outputs": [],
   "source": [
    "images_train, images_train_labels =read_images_labels('../../dataset_cropped/train_cropped','train')\n",
    "images_test, images_test_labels=read_images_labels('../../dataset_cropped/test_cropped','test')        "
   ]
  },
  {
   "cell_type": "code",
   "execution_count": 10,
   "metadata": {},
   "outputs": [],
   "source": [
    "images_train=np.array(list(images_train))/255\n",
    "images_test=np.array(list(images_test))/255"
   ]
  },
  {
   "cell_type": "code",
   "execution_count": 22,
   "metadata": {},
   "outputs": [],
   "source": [
    "features_train=(model.predict(images_train))\n",
    "features_test=(model.predict(images_test))"
   ]
  },
  {
   "cell_type": "code",
   "execution_count": 23,
   "metadata": {},
   "outputs": [
    {
     "name": "stderr",
     "output_type": "stream",
     "text": [
      "C:\\Users\\marko\\anaconda3\\envs\\tensorflow\\lib\\site-packages\\xgboost\\sklearn.py:1224: UserWarning: The use of label encoder in XGBClassifier is deprecated and will be removed in a future release. To remove this warning, do the following: 1) Pass option use_label_encoder=False when constructing XGBClassifier object; and 2) Encode your labels (y) as integers starting with 0, i.e. 0, 1, 2, ..., [num_class - 1].\n",
      "  warnings.warn(label_encoder_deprecation_msg, UserWarning)\n"
     ]
    },
    {
     "name": "stdout",
     "output_type": "stream",
     "text": [
      "[20:20:53] WARNING: D:\\bld\\xgboost-split_1637426510059\\work\\src\\learner.cc:576: \n",
      "Parameters: { \"_label_encoder\" } might not be used.\n",
      "\n",
      "  This could be a false alarm, with some parameters getting used by language bindings but\n",
      "  then being mistakenly passed down to XGBoost core, or some parameter actually being used\n",
      "  but getting flagged wrongly here. Please open an issue if you find any such cases.\n",
      "\n",
      "\n",
      "[20:20:54] WARNING: D:\\bld\\xgboost-split_1637426510059\\work\\src\\learner.cc:1115: Starting in XGBoost 1.3.0, the default evaluation metric used with the objective 'multi:softprob' was changed from 'merror' to 'mlogloss'. Explicitly set eval_metric if you'd like to restore the old behavior.\n",
      "Overall CA 0.07228915662650602\n"
     ]
    }
   ],
   "source": [
    "xg_model = xgb.XGBClassifier(_label_encoder=False)\n",
    "xg_model.fit(features_train, images_train_labels)\n",
    "y_predicted = xg_model.predict(features_test)\n",
    "\n",
    "print(\"Overall CA\", accuracy_score(y_predicted, images_test_labels))\n",
    "#print(classification_report(images_test_labels, y_predicted))\n"
   ]
  },
  {
   "cell_type": "code",
   "execution_count": 24,
   "metadata": {},
   "outputs": [
    {
     "name": "stdout",
     "output_type": "stream",
     "text": [
      "Overall CA 0.24096385542168675\n"
     ]
    }
   ],
   "source": [
    "model = LogisticRegression(\n",
    "    solver='liblinear',\n",
    "    C=1, #inverse of regularization strength (bigger c bigger regularization)\n",
    "    penalty='l2',\n",
    "    max_iter=100, #max num of iterations performed by solver \n",
    "    random_state=0).fit(features_train,images_train_labels)\n",
    "\n",
    "#print(model.coef_) #to get the coeficients\n",
    "y_predicted = model.predict(features_test)\n",
    "print(\"Overall CA\", accuracy_score(y_predicted, images_test_labels))\n",
    "#print(classification_report(images_test_labels, y_predicted))\n",
    "#len(model.coef_[0])"
   ]
  }
 ],
 "metadata": {
  "kernelspec": {
   "display_name": "Python [conda env:tensorflow] *",
   "language": "python",
   "name": "conda-env-tensorflow-py"
  },
  "language_info": {
   "codemirror_mode": {
    "name": "ipython",
    "version": 3
   },
   "file_extension": ".py",
   "mimetype": "text/x-python",
   "name": "python",
   "nbconvert_exporter": "python",
   "pygments_lexer": "ipython3",
   "version": "3.8.5"
  }
 },
 "nbformat": 4,
 "nbformat_minor": 4
}
