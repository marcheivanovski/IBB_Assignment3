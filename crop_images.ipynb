{
 "cells": [
  {
   "cell_type": "code",
   "execution_count": 5,
   "metadata": {},
   "outputs": [],
   "source": [
    "import cv2\n",
    "import os\n",
    "import numpy as np\n",
    "import re"
   ]
  },
  {
   "cell_type": "markdown",
   "metadata": {},
   "source": [
    "## Lets first cropp the train images"
   ]
  },
  {
   "cell_type": "code",
   "execution_count": 13,
   "metadata": {},
   "outputs": [],
   "source": [
    "directory = os.listdir('../../detect_sharpened/train')\n",
    "#print(directory)\n",
    "\n",
    "for file in directory:\n",
    "    basename=re.sub('.png','',file)\n",
    "    img = cv2.imread(\"../../detect_sharpened/train/\" + file, cv2.IMREAD_COLOR)\n",
    "    open_file = open('../../train-labels/'+basename+'.txt','r')\n",
    "    \n",
    "    next_line = open_file.readline()\n",
    "    data=next_line.split(' ')\n",
    "    if len(data)>1:\n",
    "        data[1]=int(float(data[1])*480)\n",
    "        data[2]=int(float(data[2])*480)\n",
    "        data[3]=int(float(data[3])*480)\n",
    "        data[4]=int(float(data[4])*480)\n",
    "        \n",
    "        img_cropped=img[int(data[2]-data[4]/2):int(data[2]+data[4]/2),\n",
    "                       int(data[1]-data[3]/2):int(data[1]+data[3]/2)]\n",
    "        \n",
    "        #cv2.imshow(\"Test img\", img_cropped)\n",
    "        #cv2.waitKey(0)\n",
    "        #cv2.destroyAllWindows()\n",
    "        cv2.imwrite(\"../../dataset_cropped/train_cropped/\" + file, img_cropped) "
   ]
  },
  {
   "cell_type": "markdown",
   "metadata": {},
   "source": [
    "## Lets crop the test images"
   ]
  },
  {
   "cell_type": "code",
   "execution_count": 15,
   "metadata": {},
   "outputs": [],
   "source": [
    "directory = os.listdir('../../detect_sharpened/test')\n",
    "#print(directory)\n",
    "\n",
    "for file in directory:\n",
    "    basename=re.sub('.png','',file)\n",
    "    img = cv2.imread(\"../../detect_sharpened/test/\" + file, cv2.IMREAD_COLOR)\n",
    "    try:\n",
    "        open_file = open('../../test-labels/'+basename+'.txt','r')\n",
    "    except:\n",
    "        continue\n",
    "        \n",
    "    next_line = open_file.readline()\n",
    "    data=next_line.split(' ')\n",
    "    if len(data)>1:\n",
    "        data[1]=int(float(data[1])*480)\n",
    "        data[2]=int(float(data[2])*480)\n",
    "        data[3]=int(float(data[3])*480)\n",
    "        data[4]=int(float(data[4])*480)\n",
    "        \n",
    "        img_cropped=img[int(data[2]-data[4]/2):int(data[2]+data[4]/2),\n",
    "                       int(data[1]-data[3]/2):int(data[1]+data[3]/2)]\n",
    "        \n",
    "        #cv2.imshow(\"Test img\", img_cropped)\n",
    "        #cv2.waitKey(0)\n",
    "        #cv2.destroyAllWindows()\n",
    "        cv2.imwrite(\"../../dataset_cropped/test_cropped/\" + file, img_cropped) "
   ]
  }
 ],
 "metadata": {
  "kernelspec": {
   "display_name": "Python [conda env:ids-clone]",
   "language": "python",
   "name": "conda-env-ids-clone-py"
  },
  "language_info": {
   "codemirror_mode": {
    "name": "ipython",
    "version": 3
   },
   "file_extension": ".py",
   "mimetype": "text/x-python",
   "name": "python",
   "nbconvert_exporter": "python",
   "pygments_lexer": "ipython3",
   "version": "3.8.11"
  }
 },
 "nbformat": 4,
 "nbformat_minor": 4
}
